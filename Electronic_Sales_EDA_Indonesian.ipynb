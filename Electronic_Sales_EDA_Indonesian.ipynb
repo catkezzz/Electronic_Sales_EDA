{
 "cells": [
  {
   "cell_type": "markdown",
   "metadata": {},
   "source": [
    "# Milestone 1"
   ]
  },
  {
   "cell_type": "markdown",
   "metadata": {},
   "source": [
    "***\n",
    "Nama     : Catherine Kezia Wijaya\n",
    "\n",
    "Batch    : RMT-037\n",
    "\n",
    "Dashboard: https://public.tableau.com/views/milestone_17297886994870/StatisticDescriptive?:language=en-US&publish=yes&:sid=&:redirect=auth&:display_count=n&:origin=viz_share_link\n",
    "***"
   ]
  },
  {
   "cell_type": "markdown",
   "metadata": {},
   "source": [
    "# i. Identifikasi Masalah"
   ]
  },
  {
   "cell_type": "markdown",
   "metadata": {},
   "source": [
    "## Latar Belakang"
   ]
  },
  {
   "cell_type": "markdown",
   "metadata": {},
   "source": [
    "Suatu perusahaan elektronik telah mengalami pertumbuhan dalam beberapa tahun terakhir. Di tengah kompetisi yang semakin ketat, manajemen perusahaan melihat pentingnya untuk memahami lebih dalam tentang perilaku pelanggan, tren penjualan produk, dan bagaimana faktor-faktor tertentu, seperti metode pembayaran dan jenis pengiriman, dapat memengaruhi kesuksesan bisnis mereka.\n",
    "\n",
    " Perusahaan ini baru saja menyelesaikan periode penjualan satu tahun, dari September 2023 hingga September 2024. Seorang data analyst diminta untuk menganalisis data transaksi penjualan yang telah terkumpul selama satu tahun ini. Wawasan yang didapat dari data diharapkan bisa berguna untuk mengoptimalkan strategi penjualan, meningkatkan pengalaman pelanggan, serta meningkatkan retensi dan pendapatan."
   ]
  },
  {
   "cell_type": "markdown",
   "metadata": {},
   "source": [
    "## Problem Statement"
   ]
  },
  {
   "cell_type": "markdown",
   "metadata": {},
   "source": [
    "### Problem Statement dijabarkan dengan format SMART Framework\n",
    "\n",
    "1. **Specific**:  \n",
    "   Menganalisis data pelanggan untuk memahami demografi pelanggan, pola pembelian, dan performa produk.\n",
    "\n",
    "2. **Measurable**:  \n",
    "   Sukses diukur dengan dapat memberikan rekomendasi berdasarkan:\n",
    "   - Performa produk terlaris serta penilaian (rating) pelanggan untuk memahami preferensi produk.\n",
    "   - Jumlah transaksi yang selesai\n",
    "   - Identifikasi pelanggan berdasarkan usia, gender, dan status loyalitas, yang paling berpengaruh terhadap jenis penjualan.\n",
    "   - Presentase jumlah transaksi yang mencakup add-ons dengan total jumlah transaksi\n",
    "   - Pengaruh pembelian Add-On terhadap rating\n",
    "\n",
    "3. **Achievable**:  \n",
    "   Analisis menggunakan dataset penjualan dari September 2023 hingga September 2024 serta memanfaatkan tools analisis seperti Python dan Pandas, serta visualisasi dengan library matplotlib, seaborn dan membuat dashboard dengan Tableau untuk mendukung analisis dan mengekstrak insight dari dataset.\n",
    "\n",
    "4. **Relevant**:  \n",
    "   Menyesuaikan strategi penjualan dan pemasaran, meningkatkan rating dari pelanggan, memaksimalkan keuntungan dari penjualan produk utama dan add-ons, membantu dalam mempertahankan anggota loyalitas dan mengurangi pembatalan pembelian.\n",
    "\n",
    "5. **Time-bound**:  \n",
    "   Analisis ini harus selesai dalam **1Minggu**.\n",
    "\n",
    "Dengan menganalisis data ini secara mendalam, perusahaan dapat membuat keputusan yang lebih baik dalam hal pemasaran, pengelolaan produk, strategi penjualan, dan pengalaman pelanggan."
   ]
  },
  {
   "cell_type": "markdown",
   "metadata": {},
   "source": [
    "### Poin Penjabaran\n",
    "\n",
    "1. Seperti apa central tendency usia pelanggan?\n",
    "2. Berapa persentase transaksi yang selesai dibandingkan dengan yang dibatalkan?\n",
    "3. Bagaimana persebaran transaksi berdasarkan jenis kelamin (presentase antara wanita dan pria)?\n",
    "4. Bagaimana presentase pelanggan yang merupakan anggota program loyalitas dan bukan merupakan anggota?\n",
    "5. Bagaimana presentase jumlah transaksi setiap jenis produk?\n",
    "6. Apakah ada korelasi antara rating produk yang diberikan pelanggan dengan jumlah produk yang terjual? Apakah produk dengan rating lebih tinggi cenderung memiliki penjualan lebih besar?\n",
    "7. Apakah anggota loyalitas lebih cenderung membeli produk dalam jumlah yang lebih besar dari non-anggota?\n",
    "8. Apakah pelanggan yang membeli add-ons lebih cenderung memberikan rating produk yang lebih tinggi dibandingkan mereka yang tidak membeli add-ons?\n",
    "***"
   ]
  },
  {
   "cell_type": "markdown",
   "metadata": {},
   "source": [
    "# ii. Import Library"
   ]
  },
  {
   "cell_type": "markdown",
   "metadata": {},
   "source": [
    "Library yang digunakan untuk analisis ini"
   ]
  },
  {
   "cell_type": "code",
   "execution_count": 280,
   "metadata": {},
   "outputs": [],
   "source": [
    "import numpy as np\n",
    "import pandas as pd\n",
    "import scipy.stats as stats\n",
    "import matplotlib.pyplot as plt\n",
    "import seaborn as sns"
   ]
  },
  {
   "cell_type": "markdown",
   "metadata": {},
   "source": [
    "***"
   ]
  },
  {
   "cell_type": "markdown",
   "metadata": {},
   "source": [
    "# iii. Data Loading"
   ]
  },
  {
   "cell_type": "markdown",
   "metadata": {},
   "source": [
    "Dataset berisi berisi record transaksi penjualan di perusahaan elektronik selama periode satu tahun, yang berisi informasi tentang demografi pelanggan, jenis produk, dan perilaku pembelian. Data ini diambil dari Kaggle.\n",
    "\n",
    "URL dataset: https://www.kaggle.com/datasets/cameronseamons/electronic-sales-sep2023-sep2024\n",
    "\n",
    "Data kemudian dibaca dan dibuat dalam bentuk DataFrame"
   ]
  },
  {
   "cell_type": "code",
   "execution_count": 297,
   "metadata": {},
   "outputs": [
    {
     "data": {
      "text/html": [
       "<div>\n",
       "<style scoped>\n",
       "    .dataframe tbody tr th:only-of-type {\n",
       "        vertical-align: middle;\n",
       "    }\n",
       "\n",
       "    .dataframe tbody tr th {\n",
       "        vertical-align: top;\n",
       "    }\n",
       "\n",
       "    .dataframe thead th {\n",
       "        text-align: right;\n",
       "    }\n",
       "</style>\n",
       "<table border=\"1\" class=\"dataframe\">\n",
       "  <thead>\n",
       "    <tr style=\"text-align: right;\">\n",
       "      <th></th>\n",
       "      <th>Customer ID</th>\n",
       "      <th>Age</th>\n",
       "      <th>Gender</th>\n",
       "      <th>Loyalty Member</th>\n",
       "      <th>Product Type</th>\n",
       "      <th>SKU</th>\n",
       "      <th>Rating</th>\n",
       "      <th>Order Status</th>\n",
       "      <th>Payment Method</th>\n",
       "      <th>Total Price</th>\n",
       "      <th>Unit Price</th>\n",
       "      <th>Quantity</th>\n",
       "      <th>Purchase Date</th>\n",
       "      <th>Shipping Type</th>\n",
       "      <th>Add-ons Purchased</th>\n",
       "      <th>Add-on Total</th>\n",
       "    </tr>\n",
       "  </thead>\n",
       "  <tbody>\n",
       "    <tr>\n",
       "      <th>0</th>\n",
       "      <td>1000</td>\n",
       "      <td>53</td>\n",
       "      <td>Male</td>\n",
       "      <td>No</td>\n",
       "      <td>Smartphone</td>\n",
       "      <td>SKU1004</td>\n",
       "      <td>2</td>\n",
       "      <td>Cancelled</td>\n",
       "      <td>Credit Card</td>\n",
       "      <td>5538.33</td>\n",
       "      <td>791.19</td>\n",
       "      <td>7</td>\n",
       "      <td>2024-03-20</td>\n",
       "      <td>Standard</td>\n",
       "      <td>Accessory,Accessory,Accessory</td>\n",
       "      <td>40.21</td>\n",
       "    </tr>\n",
       "    <tr>\n",
       "      <th>1</th>\n",
       "      <td>1000</td>\n",
       "      <td>53</td>\n",
       "      <td>Male</td>\n",
       "      <td>No</td>\n",
       "      <td>Tablet</td>\n",
       "      <td>SKU1002</td>\n",
       "      <td>3</td>\n",
       "      <td>Completed</td>\n",
       "      <td>Paypal</td>\n",
       "      <td>741.09</td>\n",
       "      <td>247.03</td>\n",
       "      <td>3</td>\n",
       "      <td>2024-04-20</td>\n",
       "      <td>Overnight</td>\n",
       "      <td>Impulse Item</td>\n",
       "      <td>26.09</td>\n",
       "    </tr>\n",
       "    <tr>\n",
       "      <th>2</th>\n",
       "      <td>1002</td>\n",
       "      <td>41</td>\n",
       "      <td>Male</td>\n",
       "      <td>No</td>\n",
       "      <td>Laptop</td>\n",
       "      <td>SKU1005</td>\n",
       "      <td>3</td>\n",
       "      <td>Completed</td>\n",
       "      <td>Credit Card</td>\n",
       "      <td>1855.84</td>\n",
       "      <td>463.96</td>\n",
       "      <td>4</td>\n",
       "      <td>2023-10-17</td>\n",
       "      <td>Express</td>\n",
       "      <td>NaN</td>\n",
       "      <td>0.00</td>\n",
       "    </tr>\n",
       "    <tr>\n",
       "      <th>3</th>\n",
       "      <td>1002</td>\n",
       "      <td>41</td>\n",
       "      <td>Male</td>\n",
       "      <td>Yes</td>\n",
       "      <td>Smartphone</td>\n",
       "      <td>SKU1004</td>\n",
       "      <td>2</td>\n",
       "      <td>Completed</td>\n",
       "      <td>Cash</td>\n",
       "      <td>3164.76</td>\n",
       "      <td>791.19</td>\n",
       "      <td>4</td>\n",
       "      <td>2024-08-09</td>\n",
       "      <td>Overnight</td>\n",
       "      <td>Impulse Item,Impulse Item</td>\n",
       "      <td>60.16</td>\n",
       "    </tr>\n",
       "    <tr>\n",
       "      <th>4</th>\n",
       "      <td>1003</td>\n",
       "      <td>75</td>\n",
       "      <td>Male</td>\n",
       "      <td>Yes</td>\n",
       "      <td>Smartphone</td>\n",
       "      <td>SKU1001</td>\n",
       "      <td>5</td>\n",
       "      <td>Completed</td>\n",
       "      <td>Cash</td>\n",
       "      <td>41.50</td>\n",
       "      <td>20.75</td>\n",
       "      <td>2</td>\n",
       "      <td>2024-05-21</td>\n",
       "      <td>Express</td>\n",
       "      <td>Accessory</td>\n",
       "      <td>35.56</td>\n",
       "    </tr>\n",
       "    <tr>\n",
       "      <th>...</th>\n",
       "      <td>...</td>\n",
       "      <td>...</td>\n",
       "      <td>...</td>\n",
       "      <td>...</td>\n",
       "      <td>...</td>\n",
       "      <td>...</td>\n",
       "      <td>...</td>\n",
       "      <td>...</td>\n",
       "      <td>...</td>\n",
       "      <td>...</td>\n",
       "      <td>...</td>\n",
       "      <td>...</td>\n",
       "      <td>...</td>\n",
       "      <td>...</td>\n",
       "      <td>...</td>\n",
       "      <td>...</td>\n",
       "    </tr>\n",
       "    <tr>\n",
       "      <th>19995</th>\n",
       "      <td>19996</td>\n",
       "      <td>27</td>\n",
       "      <td>Female</td>\n",
       "      <td>No</td>\n",
       "      <td>Smartphone</td>\n",
       "      <td>SMP234</td>\n",
       "      <td>4</td>\n",
       "      <td>Completed</td>\n",
       "      <td>Bank Transfer</td>\n",
       "      <td>6838.08</td>\n",
       "      <td>1139.68</td>\n",
       "      <td>6</td>\n",
       "      <td>2024-06-15</td>\n",
       "      <td>Expedited</td>\n",
       "      <td>NaN</td>\n",
       "      <td>0.00</td>\n",
       "    </tr>\n",
       "    <tr>\n",
       "      <th>19996</th>\n",
       "      <td>19996</td>\n",
       "      <td>27</td>\n",
       "      <td>Female</td>\n",
       "      <td>Yes</td>\n",
       "      <td>Laptop</td>\n",
       "      <td>LTP123</td>\n",
       "      <td>4</td>\n",
       "      <td>Cancelled</td>\n",
       "      <td>Credit Card</td>\n",
       "      <td>2697.28</td>\n",
       "      <td>674.32</td>\n",
       "      <td>4</td>\n",
       "      <td>2024-07-18</td>\n",
       "      <td>Standard</td>\n",
       "      <td>NaN</td>\n",
       "      <td>0.00</td>\n",
       "    </tr>\n",
       "    <tr>\n",
       "      <th>19997</th>\n",
       "      <td>19996</td>\n",
       "      <td>27</td>\n",
       "      <td>Female</td>\n",
       "      <td>No</td>\n",
       "      <td>Headphones</td>\n",
       "      <td>HDP456</td>\n",
       "      <td>4</td>\n",
       "      <td>Completed</td>\n",
       "      <td>Bank Transfer</td>\n",
       "      <td>1805.90</td>\n",
       "      <td>361.18</td>\n",
       "      <td>5</td>\n",
       "      <td>2024-08-26</td>\n",
       "      <td>Standard</td>\n",
       "      <td>Impulse Item, Extended Warranty, Accessory</td>\n",
       "      <td>198.98</td>\n",
       "    </tr>\n",
       "    <tr>\n",
       "      <th>19998</th>\n",
       "      <td>19997</td>\n",
       "      <td>27</td>\n",
       "      <td>Male</td>\n",
       "      <td>No</td>\n",
       "      <td>Headphones</td>\n",
       "      <td>HDP456</td>\n",
       "      <td>1</td>\n",
       "      <td>Cancelled</td>\n",
       "      <td>Bank Transfer</td>\n",
       "      <td>2528.26</td>\n",
       "      <td>361.18</td>\n",
       "      <td>7</td>\n",
       "      <td>2024-01-06</td>\n",
       "      <td>Expedited</td>\n",
       "      <td>Extended Warranty, Accessory</td>\n",
       "      <td>101.34</td>\n",
       "    </tr>\n",
       "    <tr>\n",
       "      <th>19999</th>\n",
       "      <td>19998</td>\n",
       "      <td>27</td>\n",
       "      <td>NaN</td>\n",
       "      <td>Yes</td>\n",
       "      <td>Laptop</td>\n",
       "      <td>LTP123</td>\n",
       "      <td>4</td>\n",
       "      <td>Completed</td>\n",
       "      <td>Bank Transfer</td>\n",
       "      <td>674.32</td>\n",
       "      <td>674.32</td>\n",
       "      <td>1</td>\n",
       "      <td>2024-01-29</td>\n",
       "      <td>Expedited</td>\n",
       "      <td>NaN</td>\n",
       "      <td>0.00</td>\n",
       "    </tr>\n",
       "  </tbody>\n",
       "</table>\n",
       "<p>20000 rows × 16 columns</p>\n",
       "</div>"
      ],
      "text/plain": [
       "       Customer ID  Age  Gender Loyalty Member Product Type      SKU  Rating  \\\n",
       "0             1000   53    Male             No   Smartphone  SKU1004       2   \n",
       "1             1000   53    Male             No       Tablet  SKU1002       3   \n",
       "2             1002   41    Male             No       Laptop  SKU1005       3   \n",
       "3             1002   41    Male            Yes   Smartphone  SKU1004       2   \n",
       "4             1003   75    Male            Yes   Smartphone  SKU1001       5   \n",
       "...            ...  ...     ...            ...          ...      ...     ...   \n",
       "19995        19996   27  Female             No   Smartphone   SMP234       4   \n",
       "19996        19996   27  Female            Yes       Laptop   LTP123       4   \n",
       "19997        19996   27  Female             No   Headphones   HDP456       4   \n",
       "19998        19997   27    Male             No   Headphones   HDP456       1   \n",
       "19999        19998   27     NaN            Yes       Laptop   LTP123       4   \n",
       "\n",
       "      Order Status Payment Method  Total Price  Unit Price  Quantity  \\\n",
       "0        Cancelled    Credit Card      5538.33      791.19         7   \n",
       "1        Completed         Paypal       741.09      247.03         3   \n",
       "2        Completed    Credit Card      1855.84      463.96         4   \n",
       "3        Completed           Cash      3164.76      791.19         4   \n",
       "4        Completed           Cash        41.50       20.75         2   \n",
       "...            ...            ...          ...         ...       ...   \n",
       "19995    Completed  Bank Transfer      6838.08     1139.68         6   \n",
       "19996    Cancelled    Credit Card      2697.28      674.32         4   \n",
       "19997    Completed  Bank Transfer      1805.90      361.18         5   \n",
       "19998    Cancelled  Bank Transfer      2528.26      361.18         7   \n",
       "19999    Completed  Bank Transfer       674.32      674.32         1   \n",
       "\n",
       "      Purchase Date Shipping Type                           Add-ons Purchased  \\\n",
       "0        2024-03-20      Standard               Accessory,Accessory,Accessory   \n",
       "1        2024-04-20     Overnight                                Impulse Item   \n",
       "2        2023-10-17       Express                                         NaN   \n",
       "3        2024-08-09     Overnight                   Impulse Item,Impulse Item   \n",
       "4        2024-05-21       Express                                   Accessory   \n",
       "...             ...           ...                                         ...   \n",
       "19995    2024-06-15     Expedited                                         NaN   \n",
       "19996    2024-07-18      Standard                                         NaN   \n",
       "19997    2024-08-26      Standard  Impulse Item, Extended Warranty, Accessory   \n",
       "19998    2024-01-06     Expedited                Extended Warranty, Accessory   \n",
       "19999    2024-01-29     Expedited                                         NaN   \n",
       "\n",
       "       Add-on Total  \n",
       "0             40.21  \n",
       "1             26.09  \n",
       "2              0.00  \n",
       "3             60.16  \n",
       "4             35.56  \n",
       "...             ...  \n",
       "19995          0.00  \n",
       "19996          0.00  \n",
       "19997        198.98  \n",
       "19998        101.34  \n",
       "19999          0.00  \n",
       "\n",
       "[20000 rows x 16 columns]"
      ]
     },
     "execution_count": 297,
     "metadata": {},
     "output_type": "execute_result"
    }
   ],
   "source": [
    "# Membaca csv menggunakan fungsi read_csv\n",
    "data = pd.read_csv('Electronic_sales_Sep2023-Sep2024.csv')\n",
    "data"
   ]
  },
  {
   "cell_type": "markdown",
   "metadata": {},
   "source": [
    "Berikut memperlihatkan data bagian atas dan data bagian bawah"
   ]
  },
  {
   "cell_type": "code",
   "execution_count": 282,
   "metadata": {},
   "outputs": [
    {
     "data": {
      "text/html": [
       "<div>\n",
       "<style scoped>\n",
       "    .dataframe tbody tr th:only-of-type {\n",
       "        vertical-align: middle;\n",
       "    }\n",
       "\n",
       "    .dataframe tbody tr th {\n",
       "        vertical-align: top;\n",
       "    }\n",
       "\n",
       "    .dataframe thead th {\n",
       "        text-align: right;\n",
       "    }\n",
       "</style>\n",
       "<table border=\"1\" class=\"dataframe\">\n",
       "  <thead>\n",
       "    <tr style=\"text-align: right;\">\n",
       "      <th></th>\n",
       "      <th>Customer ID</th>\n",
       "      <th>Age</th>\n",
       "      <th>Gender</th>\n",
       "      <th>Loyalty Member</th>\n",
       "      <th>Product Type</th>\n",
       "      <th>SKU</th>\n",
       "      <th>Rating</th>\n",
       "      <th>Order Status</th>\n",
       "      <th>Payment Method</th>\n",
       "      <th>Total Price</th>\n",
       "      <th>Unit Price</th>\n",
       "      <th>Quantity</th>\n",
       "      <th>Purchase Date</th>\n",
       "      <th>Shipping Type</th>\n",
       "      <th>Add-ons Purchased</th>\n",
       "      <th>Add-on Total</th>\n",
       "    </tr>\n",
       "  </thead>\n",
       "  <tbody>\n",
       "    <tr>\n",
       "      <th>0</th>\n",
       "      <td>1000</td>\n",
       "      <td>53</td>\n",
       "      <td>Male</td>\n",
       "      <td>No</td>\n",
       "      <td>Smartphone</td>\n",
       "      <td>SKU1004</td>\n",
       "      <td>2</td>\n",
       "      <td>Cancelled</td>\n",
       "      <td>Credit Card</td>\n",
       "      <td>5538.33</td>\n",
       "      <td>791.19</td>\n",
       "      <td>7</td>\n",
       "      <td>2024-03-20</td>\n",
       "      <td>Standard</td>\n",
       "      <td>Accessory,Accessory,Accessory</td>\n",
       "      <td>40.21</td>\n",
       "    </tr>\n",
       "    <tr>\n",
       "      <th>1</th>\n",
       "      <td>1000</td>\n",
       "      <td>53</td>\n",
       "      <td>Male</td>\n",
       "      <td>No</td>\n",
       "      <td>Tablet</td>\n",
       "      <td>SKU1002</td>\n",
       "      <td>3</td>\n",
       "      <td>Completed</td>\n",
       "      <td>Paypal</td>\n",
       "      <td>741.09</td>\n",
       "      <td>247.03</td>\n",
       "      <td>3</td>\n",
       "      <td>2024-04-20</td>\n",
       "      <td>Overnight</td>\n",
       "      <td>Impulse Item</td>\n",
       "      <td>26.09</td>\n",
       "    </tr>\n",
       "    <tr>\n",
       "      <th>2</th>\n",
       "      <td>1002</td>\n",
       "      <td>41</td>\n",
       "      <td>Male</td>\n",
       "      <td>No</td>\n",
       "      <td>Laptop</td>\n",
       "      <td>SKU1005</td>\n",
       "      <td>3</td>\n",
       "      <td>Completed</td>\n",
       "      <td>Credit Card</td>\n",
       "      <td>1855.84</td>\n",
       "      <td>463.96</td>\n",
       "      <td>4</td>\n",
       "      <td>2023-10-17</td>\n",
       "      <td>Express</td>\n",
       "      <td>NaN</td>\n",
       "      <td>0.00</td>\n",
       "    </tr>\n",
       "    <tr>\n",
       "      <th>3</th>\n",
       "      <td>1002</td>\n",
       "      <td>41</td>\n",
       "      <td>Male</td>\n",
       "      <td>Yes</td>\n",
       "      <td>Smartphone</td>\n",
       "      <td>SKU1004</td>\n",
       "      <td>2</td>\n",
       "      <td>Completed</td>\n",
       "      <td>Cash</td>\n",
       "      <td>3164.76</td>\n",
       "      <td>791.19</td>\n",
       "      <td>4</td>\n",
       "      <td>2024-08-09</td>\n",
       "      <td>Overnight</td>\n",
       "      <td>Impulse Item,Impulse Item</td>\n",
       "      <td>60.16</td>\n",
       "    </tr>\n",
       "    <tr>\n",
       "      <th>4</th>\n",
       "      <td>1003</td>\n",
       "      <td>75</td>\n",
       "      <td>Male</td>\n",
       "      <td>Yes</td>\n",
       "      <td>Smartphone</td>\n",
       "      <td>SKU1001</td>\n",
       "      <td>5</td>\n",
       "      <td>Completed</td>\n",
       "      <td>Cash</td>\n",
       "      <td>41.50</td>\n",
       "      <td>20.75</td>\n",
       "      <td>2</td>\n",
       "      <td>2024-05-21</td>\n",
       "      <td>Express</td>\n",
       "      <td>Accessory</td>\n",
       "      <td>35.56</td>\n",
       "    </tr>\n",
       "  </tbody>\n",
       "</table>\n",
       "</div>"
      ],
      "text/plain": [
       "   Customer ID  Age Gender Loyalty Member Product Type      SKU  Rating  \\\n",
       "0         1000   53   Male             No   Smartphone  SKU1004       2   \n",
       "1         1000   53   Male             No       Tablet  SKU1002       3   \n",
       "2         1002   41   Male             No       Laptop  SKU1005       3   \n",
       "3         1002   41   Male            Yes   Smartphone  SKU1004       2   \n",
       "4         1003   75   Male            Yes   Smartphone  SKU1001       5   \n",
       "\n",
       "  Order Status Payment Method  Total Price  Unit Price  Quantity  \\\n",
       "0    Cancelled    Credit Card      5538.33      791.19         7   \n",
       "1    Completed         Paypal       741.09      247.03         3   \n",
       "2    Completed    Credit Card      1855.84      463.96         4   \n",
       "3    Completed           Cash      3164.76      791.19         4   \n",
       "4    Completed           Cash        41.50       20.75         2   \n",
       "\n",
       "  Purchase Date Shipping Type              Add-ons Purchased  Add-on Total  \n",
       "0    2024-03-20      Standard  Accessory,Accessory,Accessory         40.21  \n",
       "1    2024-04-20     Overnight                   Impulse Item         26.09  \n",
       "2    2023-10-17       Express                            NaN          0.00  \n",
       "3    2024-08-09     Overnight      Impulse Item,Impulse Item         60.16  \n",
       "4    2024-05-21       Express                      Accessory         35.56  "
      ]
     },
     "execution_count": 282,
     "metadata": {},
     "output_type": "execute_result"
    }
   ],
   "source": [
    "# Tampilan 5 data di atas\n",
    "data.head()"
   ]
  },
  {
   "cell_type": "code",
   "execution_count": 283,
   "metadata": {},
   "outputs": [
    {
     "data": {
      "text/html": [
       "<div>\n",
       "<style scoped>\n",
       "    .dataframe tbody tr th:only-of-type {\n",
       "        vertical-align: middle;\n",
       "    }\n",
       "\n",
       "    .dataframe tbody tr th {\n",
       "        vertical-align: top;\n",
       "    }\n",
       "\n",
       "    .dataframe thead th {\n",
       "        text-align: right;\n",
       "    }\n",
       "</style>\n",
       "<table border=\"1\" class=\"dataframe\">\n",
       "  <thead>\n",
       "    <tr style=\"text-align: right;\">\n",
       "      <th></th>\n",
       "      <th>Customer ID</th>\n",
       "      <th>Age</th>\n",
       "      <th>Gender</th>\n",
       "      <th>Loyalty Member</th>\n",
       "      <th>Product Type</th>\n",
       "      <th>SKU</th>\n",
       "      <th>Rating</th>\n",
       "      <th>Order Status</th>\n",
       "      <th>Payment Method</th>\n",
       "      <th>Total Price</th>\n",
       "      <th>Unit Price</th>\n",
       "      <th>Quantity</th>\n",
       "      <th>Purchase Date</th>\n",
       "      <th>Shipping Type</th>\n",
       "      <th>Add-ons Purchased</th>\n",
       "      <th>Add-on Total</th>\n",
       "    </tr>\n",
       "  </thead>\n",
       "  <tbody>\n",
       "    <tr>\n",
       "      <th>19995</th>\n",
       "      <td>19996</td>\n",
       "      <td>27</td>\n",
       "      <td>Female</td>\n",
       "      <td>No</td>\n",
       "      <td>Smartphone</td>\n",
       "      <td>SMP234</td>\n",
       "      <td>4</td>\n",
       "      <td>Completed</td>\n",
       "      <td>Bank Transfer</td>\n",
       "      <td>6838.08</td>\n",
       "      <td>1139.68</td>\n",
       "      <td>6</td>\n",
       "      <td>2024-06-15</td>\n",
       "      <td>Expedited</td>\n",
       "      <td>NaN</td>\n",
       "      <td>0.00</td>\n",
       "    </tr>\n",
       "    <tr>\n",
       "      <th>19996</th>\n",
       "      <td>19996</td>\n",
       "      <td>27</td>\n",
       "      <td>Female</td>\n",
       "      <td>Yes</td>\n",
       "      <td>Laptop</td>\n",
       "      <td>LTP123</td>\n",
       "      <td>4</td>\n",
       "      <td>Cancelled</td>\n",
       "      <td>Credit Card</td>\n",
       "      <td>2697.28</td>\n",
       "      <td>674.32</td>\n",
       "      <td>4</td>\n",
       "      <td>2024-07-18</td>\n",
       "      <td>Standard</td>\n",
       "      <td>NaN</td>\n",
       "      <td>0.00</td>\n",
       "    </tr>\n",
       "    <tr>\n",
       "      <th>19997</th>\n",
       "      <td>19996</td>\n",
       "      <td>27</td>\n",
       "      <td>Female</td>\n",
       "      <td>No</td>\n",
       "      <td>Headphones</td>\n",
       "      <td>HDP456</td>\n",
       "      <td>4</td>\n",
       "      <td>Completed</td>\n",
       "      <td>Bank Transfer</td>\n",
       "      <td>1805.90</td>\n",
       "      <td>361.18</td>\n",
       "      <td>5</td>\n",
       "      <td>2024-08-26</td>\n",
       "      <td>Standard</td>\n",
       "      <td>Impulse Item, Extended Warranty, Accessory</td>\n",
       "      <td>198.98</td>\n",
       "    </tr>\n",
       "    <tr>\n",
       "      <th>19998</th>\n",
       "      <td>19997</td>\n",
       "      <td>27</td>\n",
       "      <td>Male</td>\n",
       "      <td>No</td>\n",
       "      <td>Headphones</td>\n",
       "      <td>HDP456</td>\n",
       "      <td>1</td>\n",
       "      <td>Cancelled</td>\n",
       "      <td>Bank Transfer</td>\n",
       "      <td>2528.26</td>\n",
       "      <td>361.18</td>\n",
       "      <td>7</td>\n",
       "      <td>2024-01-06</td>\n",
       "      <td>Expedited</td>\n",
       "      <td>Extended Warranty, Accessory</td>\n",
       "      <td>101.34</td>\n",
       "    </tr>\n",
       "    <tr>\n",
       "      <th>19999</th>\n",
       "      <td>19998</td>\n",
       "      <td>27</td>\n",
       "      <td>NaN</td>\n",
       "      <td>Yes</td>\n",
       "      <td>Laptop</td>\n",
       "      <td>LTP123</td>\n",
       "      <td>4</td>\n",
       "      <td>Completed</td>\n",
       "      <td>Bank Transfer</td>\n",
       "      <td>674.32</td>\n",
       "      <td>674.32</td>\n",
       "      <td>1</td>\n",
       "      <td>2024-01-29</td>\n",
       "      <td>Expedited</td>\n",
       "      <td>NaN</td>\n",
       "      <td>0.00</td>\n",
       "    </tr>\n",
       "  </tbody>\n",
       "</table>\n",
       "</div>"
      ],
      "text/plain": [
       "       Customer ID  Age  Gender Loyalty Member Product Type     SKU  Rating  \\\n",
       "19995        19996   27  Female             No   Smartphone  SMP234       4   \n",
       "19996        19996   27  Female            Yes       Laptop  LTP123       4   \n",
       "19997        19996   27  Female             No   Headphones  HDP456       4   \n",
       "19998        19997   27    Male             No   Headphones  HDP456       1   \n",
       "19999        19998   27     NaN            Yes       Laptop  LTP123       4   \n",
       "\n",
       "      Order Status Payment Method  Total Price  Unit Price  Quantity  \\\n",
       "19995    Completed  Bank Transfer      6838.08     1139.68         6   \n",
       "19996    Cancelled    Credit Card      2697.28      674.32         4   \n",
       "19997    Completed  Bank Transfer      1805.90      361.18         5   \n",
       "19998    Cancelled  Bank Transfer      2528.26      361.18         7   \n",
       "19999    Completed  Bank Transfer       674.32      674.32         1   \n",
       "\n",
       "      Purchase Date Shipping Type                           Add-ons Purchased  \\\n",
       "19995    2024-06-15     Expedited                                         NaN   \n",
       "19996    2024-07-18      Standard                                         NaN   \n",
       "19997    2024-08-26      Standard  Impulse Item, Extended Warranty, Accessory   \n",
       "19998    2024-01-06     Expedited                Extended Warranty, Accessory   \n",
       "19999    2024-01-29     Expedited                                         NaN   \n",
       "\n",
       "       Add-on Total  \n",
       "19995          0.00  \n",
       "19996          0.00  \n",
       "19997        198.98  \n",
       "19998        101.34  \n",
       "19999          0.00  "
      ]
     },
     "execution_count": 283,
     "metadata": {},
     "output_type": "execute_result"
    }
   ],
   "source": [
    "# Tampilan 5 data di bawah\n",
    "data.tail()"
   ]
  },
  {
   "cell_type": "code",
   "execution_count": 284,
   "metadata": {},
   "outputs": [
    {
     "data": {
      "text/plain": [
       "(20000, 16)"
      ]
     },
     "execution_count": 284,
     "metadata": {},
     "output_type": "execute_result"
    }
   ],
   "source": [
    "data.shape"
   ]
  },
  {
   "cell_type": "markdown",
   "metadata": {},
   "source": [
    "Terdapat 20000 baris dan 16 kolom\n",
    "***"
   ]
  },
  {
   "cell_type": "markdown",
   "metadata": {},
   "source": [
    "# iv. Data Cleaning"
   ]
  },
  {
   "cell_type": "code",
   "execution_count": 285,
   "metadata": {},
   "outputs": [
    {
     "data": {
      "text/html": [
       "<div>\n",
       "<style scoped>\n",
       "    .dataframe tbody tr th:only-of-type {\n",
       "        vertical-align: middle;\n",
       "    }\n",
       "\n",
       "    .dataframe tbody tr th {\n",
       "        vertical-align: top;\n",
       "    }\n",
       "\n",
       "    .dataframe thead th {\n",
       "        text-align: right;\n",
       "    }\n",
       "</style>\n",
       "<table border=\"1\" class=\"dataframe\">\n",
       "  <thead>\n",
       "    <tr style=\"text-align: right;\">\n",
       "      <th></th>\n",
       "      <th>Customer ID</th>\n",
       "      <th>Age</th>\n",
       "      <th>Gender</th>\n",
       "      <th>Loyalty Member</th>\n",
       "      <th>Product Type</th>\n",
       "      <th>SKU</th>\n",
       "      <th>Rating</th>\n",
       "      <th>Order Status</th>\n",
       "      <th>Payment Method</th>\n",
       "      <th>Total Price</th>\n",
       "      <th>Unit Price</th>\n",
       "      <th>Quantity</th>\n",
       "      <th>Purchase Date</th>\n",
       "      <th>Shipping Type</th>\n",
       "      <th>Add-ons Purchased</th>\n",
       "      <th>Add-on Total</th>\n",
       "    </tr>\n",
       "  </thead>\n",
       "  <tbody>\n",
       "    <tr>\n",
       "      <th>0</th>\n",
       "      <td>1000</td>\n",
       "      <td>53</td>\n",
       "      <td>Male</td>\n",
       "      <td>No</td>\n",
       "      <td>Smartphone</td>\n",
       "      <td>SKU1004</td>\n",
       "      <td>2</td>\n",
       "      <td>Cancelled</td>\n",
       "      <td>Credit Card</td>\n",
       "      <td>5538.33</td>\n",
       "      <td>791.19</td>\n",
       "      <td>7</td>\n",
       "      <td>2024-03-20</td>\n",
       "      <td>Standard</td>\n",
       "      <td>Accessory,Accessory,Accessory</td>\n",
       "      <td>40.21</td>\n",
       "    </tr>\n",
       "    <tr>\n",
       "      <th>1</th>\n",
       "      <td>1000</td>\n",
       "      <td>53</td>\n",
       "      <td>Male</td>\n",
       "      <td>No</td>\n",
       "      <td>Tablet</td>\n",
       "      <td>SKU1002</td>\n",
       "      <td>3</td>\n",
       "      <td>Completed</td>\n",
       "      <td>Paypal</td>\n",
       "      <td>741.09</td>\n",
       "      <td>247.03</td>\n",
       "      <td>3</td>\n",
       "      <td>2024-04-20</td>\n",
       "      <td>Overnight</td>\n",
       "      <td>Impulse Item</td>\n",
       "      <td>26.09</td>\n",
       "    </tr>\n",
       "    <tr>\n",
       "      <th>2</th>\n",
       "      <td>1002</td>\n",
       "      <td>41</td>\n",
       "      <td>Male</td>\n",
       "      <td>No</td>\n",
       "      <td>Laptop</td>\n",
       "      <td>SKU1005</td>\n",
       "      <td>3</td>\n",
       "      <td>Completed</td>\n",
       "      <td>Credit Card</td>\n",
       "      <td>1855.84</td>\n",
       "      <td>463.96</td>\n",
       "      <td>4</td>\n",
       "      <td>2023-10-17</td>\n",
       "      <td>Express</td>\n",
       "      <td>NaN</td>\n",
       "      <td>0.00</td>\n",
       "    </tr>\n",
       "    <tr>\n",
       "      <th>3</th>\n",
       "      <td>1002</td>\n",
       "      <td>41</td>\n",
       "      <td>Male</td>\n",
       "      <td>Yes</td>\n",
       "      <td>Smartphone</td>\n",
       "      <td>SKU1004</td>\n",
       "      <td>2</td>\n",
       "      <td>Completed</td>\n",
       "      <td>Cash</td>\n",
       "      <td>3164.76</td>\n",
       "      <td>791.19</td>\n",
       "      <td>4</td>\n",
       "      <td>2024-08-09</td>\n",
       "      <td>Overnight</td>\n",
       "      <td>Impulse Item,Impulse Item</td>\n",
       "      <td>60.16</td>\n",
       "    </tr>\n",
       "    <tr>\n",
       "      <th>4</th>\n",
       "      <td>1003</td>\n",
       "      <td>75</td>\n",
       "      <td>Male</td>\n",
       "      <td>Yes</td>\n",
       "      <td>Smartphone</td>\n",
       "      <td>SKU1001</td>\n",
       "      <td>5</td>\n",
       "      <td>Completed</td>\n",
       "      <td>Cash</td>\n",
       "      <td>41.50</td>\n",
       "      <td>20.75</td>\n",
       "      <td>2</td>\n",
       "      <td>2024-05-21</td>\n",
       "      <td>Express</td>\n",
       "      <td>Accessory</td>\n",
       "      <td>35.56</td>\n",
       "    </tr>\n",
       "    <tr>\n",
       "      <th>5</th>\n",
       "      <td>1004</td>\n",
       "      <td>41</td>\n",
       "      <td>Female</td>\n",
       "      <td>No</td>\n",
       "      <td>Smartphone</td>\n",
       "      <td>SKU1001</td>\n",
       "      <td>5</td>\n",
       "      <td>Completed</td>\n",
       "      <td>Credit Card</td>\n",
       "      <td>83.00</td>\n",
       "      <td>20.75</td>\n",
       "      <td>4</td>\n",
       "      <td>2024-05-26</td>\n",
       "      <td>Standard</td>\n",
       "      <td>Impulse Item,Accessory</td>\n",
       "      <td>65.78</td>\n",
       "    </tr>\n",
       "    <tr>\n",
       "      <th>6</th>\n",
       "      <td>1005</td>\n",
       "      <td>25</td>\n",
       "      <td>Female</td>\n",
       "      <td>No</td>\n",
       "      <td>Smartwatch</td>\n",
       "      <td>SKU1003</td>\n",
       "      <td>3</td>\n",
       "      <td>Completed</td>\n",
       "      <td>Paypal</td>\n",
       "      <td>7603.47</td>\n",
       "      <td>844.83</td>\n",
       "      <td>9</td>\n",
       "      <td>2024-01-30</td>\n",
       "      <td>Overnight</td>\n",
       "      <td>NaN</td>\n",
       "      <td>0.00</td>\n",
       "    </tr>\n",
       "    <tr>\n",
       "      <th>7</th>\n",
       "      <td>1005</td>\n",
       "      <td>25</td>\n",
       "      <td>Female</td>\n",
       "      <td>No</td>\n",
       "      <td>Laptop</td>\n",
       "      <td>SKU1005</td>\n",
       "      <td>3</td>\n",
       "      <td>Completed</td>\n",
       "      <td>Debit Card</td>\n",
       "      <td>4175.64</td>\n",
       "      <td>463.96</td>\n",
       "      <td>9</td>\n",
       "      <td>2024-06-24</td>\n",
       "      <td>Overnight</td>\n",
       "      <td>Extended Warranty,Extended Warranty</td>\n",
       "      <td>75.33</td>\n",
       "    </tr>\n",
       "    <tr>\n",
       "      <th>8</th>\n",
       "      <td>1006</td>\n",
       "      <td>24</td>\n",
       "      <td>Male</td>\n",
       "      <td>No</td>\n",
       "      <td>Smartphone</td>\n",
       "      <td>SKU1004</td>\n",
       "      <td>2</td>\n",
       "      <td>Cancelled</td>\n",
       "      <td>Debit Card</td>\n",
       "      <td>5538.33</td>\n",
       "      <td>791.19</td>\n",
       "      <td>7</td>\n",
       "      <td>2023-10-03</td>\n",
       "      <td>Standard</td>\n",
       "      <td>Impulse Item</td>\n",
       "      <td>43.05</td>\n",
       "    </tr>\n",
       "    <tr>\n",
       "      <th>9</th>\n",
       "      <td>1006</td>\n",
       "      <td>24</td>\n",
       "      <td>Male</td>\n",
       "      <td>Yes</td>\n",
       "      <td>Laptop</td>\n",
       "      <td>SKU1005</td>\n",
       "      <td>3</td>\n",
       "      <td>Completed</td>\n",
       "      <td>Cash</td>\n",
       "      <td>4175.64</td>\n",
       "      <td>463.96</td>\n",
       "      <td>9</td>\n",
       "      <td>2024-01-01</td>\n",
       "      <td>Express</td>\n",
       "      <td>NaN</td>\n",
       "      <td>0.00</td>\n",
       "    </tr>\n",
       "  </tbody>\n",
       "</table>\n",
       "</div>"
      ],
      "text/plain": [
       "   Customer ID  Age  Gender Loyalty Member Product Type      SKU  Rating  \\\n",
       "0         1000   53    Male             No   Smartphone  SKU1004       2   \n",
       "1         1000   53    Male             No       Tablet  SKU1002       3   \n",
       "2         1002   41    Male             No       Laptop  SKU1005       3   \n",
       "3         1002   41    Male            Yes   Smartphone  SKU1004       2   \n",
       "4         1003   75    Male            Yes   Smartphone  SKU1001       5   \n",
       "5         1004   41  Female             No   Smartphone  SKU1001       5   \n",
       "6         1005   25  Female             No   Smartwatch  SKU1003       3   \n",
       "7         1005   25  Female             No       Laptop  SKU1005       3   \n",
       "8         1006   24    Male             No   Smartphone  SKU1004       2   \n",
       "9         1006   24    Male            Yes       Laptop  SKU1005       3   \n",
       "\n",
       "  Order Status Payment Method  Total Price  Unit Price  Quantity  \\\n",
       "0    Cancelled    Credit Card      5538.33      791.19         7   \n",
       "1    Completed         Paypal       741.09      247.03         3   \n",
       "2    Completed    Credit Card      1855.84      463.96         4   \n",
       "3    Completed           Cash      3164.76      791.19         4   \n",
       "4    Completed           Cash        41.50       20.75         2   \n",
       "5    Completed    Credit Card        83.00       20.75         4   \n",
       "6    Completed         Paypal      7603.47      844.83         9   \n",
       "7    Completed     Debit Card      4175.64      463.96         9   \n",
       "8    Cancelled     Debit Card      5538.33      791.19         7   \n",
       "9    Completed           Cash      4175.64      463.96         9   \n",
       "\n",
       "  Purchase Date Shipping Type                    Add-ons Purchased  \\\n",
       "0    2024-03-20      Standard        Accessory,Accessory,Accessory   \n",
       "1    2024-04-20     Overnight                         Impulse Item   \n",
       "2    2023-10-17       Express                                  NaN   \n",
       "3    2024-08-09     Overnight            Impulse Item,Impulse Item   \n",
       "4    2024-05-21       Express                            Accessory   \n",
       "5    2024-05-26      Standard               Impulse Item,Accessory   \n",
       "6    2024-01-30     Overnight                                  NaN   \n",
       "7    2024-06-24     Overnight  Extended Warranty,Extended Warranty   \n",
       "8    2023-10-03      Standard                         Impulse Item   \n",
       "9    2024-01-01       Express                                  NaN   \n",
       "\n",
       "   Add-on Total  \n",
       "0         40.21  \n",
       "1         26.09  \n",
       "2          0.00  \n",
       "3         60.16  \n",
       "4         35.56  \n",
       "5         65.78  \n",
       "6          0.00  \n",
       "7         75.33  \n",
       "8         43.05  \n",
       "9          0.00  "
      ]
     },
     "execution_count": 285,
     "metadata": {},
     "output_type": "execute_result"
    }
   ],
   "source": [
    "data.head(10)"
   ]
  },
  {
   "cell_type": "markdown",
   "metadata": {},
   "source": [
    "Selanjutnya ingin dianalisa kebersihan datanya:\n",
    "-  Format data `Add-ons Purchased` berantakan maka perlu dibuang\n",
    "-  Data `Purchase Date` tidak relevan pada analisa maka juga dibuang\n",
    "-  Perlu adanya kolom `Total Transaction` yang menambahkan `Total Price` dengan `Add-on Total`"
   ]
  },
  {
   "cell_type": "code",
   "execution_count": 298,
   "metadata": {},
   "outputs": [],
   "source": [
    "# Menghapus kolom Add-on\n",
    "data = data.drop(columns=['Add-ons Purchased', 'Purchase Date'])"
   ]
  },
  {
   "cell_type": "code",
   "execution_count": 299,
   "metadata": {},
   "outputs": [],
   "source": [
    "# Menambahkan kolom Total Transaction\n",
    "data['Total Transaction'] = data['Total Price'] + data['Add-on Total']"
   ]
  },
  {
   "cell_type": "markdown",
   "metadata": {},
   "source": [
    "Ingin dilihat rangkuman informasi tentang DataFrame"
   ]
  },
  {
   "cell_type": "code",
   "execution_count": 288,
   "metadata": {},
   "outputs": [
    {
     "name": "stdout",
     "output_type": "stream",
     "text": [
      "<class 'pandas.core.frame.DataFrame'>\n",
      "RangeIndex: 20000 entries, 0 to 19999\n",
      "Data columns (total 15 columns):\n",
      " #   Column             Non-Null Count  Dtype  \n",
      "---  ------             --------------  -----  \n",
      " 0   Customer ID        20000 non-null  int64  \n",
      " 1   Age                20000 non-null  int64  \n",
      " 2   Gender             19999 non-null  object \n",
      " 3   Loyalty Member     20000 non-null  object \n",
      " 4   Product Type       20000 non-null  object \n",
      " 5   SKU                20000 non-null  object \n",
      " 6   Rating             20000 non-null  int64  \n",
      " 7   Order Status       20000 non-null  object \n",
      " 8   Payment Method     20000 non-null  object \n",
      " 9   Total Price        20000 non-null  float64\n",
      " 10  Unit Price         20000 non-null  float64\n",
      " 11  Quantity           20000 non-null  int64  \n",
      " 12  Shipping Type      20000 non-null  object \n",
      " 13  Add-on Total       20000 non-null  float64\n",
      " 14  Total Transaction  20000 non-null  float64\n",
      "dtypes: float64(4), int64(4), object(7)\n",
      "memory usage: 2.3+ MB\n"
     ]
    }
   ],
   "source": [
    "data.info()"
   ]
  },
  {
   "cell_type": "markdown",
   "metadata": {},
   "source": [
    "- Terdapat 1 nilai null di kolom Gender, data baris dengan null ini dihapus\n"
   ]
  },
  {
   "cell_type": "code",
   "execution_count": 300,
   "metadata": {},
   "outputs": [],
   "source": [
    "data = data.dropna(subset=['Gender'])"
   ]
  },
  {
   "cell_type": "code",
   "execution_count": 301,
   "metadata": {},
   "outputs": [
    {
     "data": {
      "text/plain": [
       "Customer ID          0\n",
       "Age                  0\n",
       "Gender               0\n",
       "Loyalty Member       0\n",
       "Product Type         0\n",
       "SKU                  0\n",
       "Rating               0\n",
       "Order Status         0\n",
       "Payment Method       0\n",
       "Total Price          0\n",
       "Unit Price           0\n",
       "Quantity             0\n",
       "Shipping Type        0\n",
       "Add-on Total         0\n",
       "Total Transaction    0\n",
       "dtype: int64"
      ]
     },
     "execution_count": 301,
     "metadata": {},
     "output_type": "execute_result"
    }
   ],
   "source": [
    "data.isnull().sum()"
   ]
  },
  {
   "cell_type": "markdown",
   "metadata": {},
   "source": [
    "Karena kolom data Gender, Loyalty Member, Product Type, Order Status, Payment Method, dan Shipping Type bersifat Kategorikal, maka perlu dijabarkan isi data uniknya apa saja, dan apakah data sudah bersih."
   ]
  },
  {
   "cell_type": "code",
   "execution_count": 302,
   "metadata": {},
   "outputs": [
    {
     "name": "stdout",
     "output_type": "stream",
     "text": [
      "Gender:  ['Male' 'Female']\n",
      "Loyalty Member:  ['No' 'Yes']\n",
      "Product Type:  ['Smartphone' 'Tablet' 'Laptop' 'Smartwatch' 'Headphones']\n",
      "Order Status:  ['Cancelled' 'Completed']\n",
      "Payment Method:  ['Credit Card' 'Paypal' 'Cash' 'Debit Card' 'Bank Transfer' 'PayPal']\n",
      "Shipping Type:  ['Standard' 'Overnight' 'Express' 'Same Day' 'Expedited']\n"
     ]
    }
   ],
   "source": [
    "# Menunjukkan nilai unik untuk kolom Gender, Loyalty Member, Product Type, Rating, Order Status, Payment Method, dan Shipping Type\n",
    "print('Gender: ', data['Gender'].unique())\n",
    "print('Loyalty Member: ', data['Loyalty Member'].unique())\n",
    "print('Product Type: ', data['Product Type'].unique())\n",
    "print('Order Status: ', data['Order Status'].unique())\n",
    "print('Payment Method: ', data['Payment Method'].unique())\n",
    "print('Shipping Type: ', data['Shipping Type'].unique())"
   ]
  },
  {
   "cell_type": "markdown",
   "metadata": {},
   "source": [
    "Ada value yang double pada `Payment Method` yaitu `Paypal` dan `Paypal` ingin dijadikan satu kategori yaitu `PayPal`"
   ]
  },
  {
   "cell_type": "code",
   "execution_count": 303,
   "metadata": {},
   "outputs": [
    {
     "name": "stdout",
     "output_type": "stream",
     "text": [
      "Payment Method:  ['Credit Card' 'PayPal' 'Cash' 'Debit Card' 'Bank Transfer']\n"
     ]
    }
   ],
   "source": [
    "# Ganti semua Paypal menjadi Paypal\n",
    "data['Payment Method'] = data['Payment Method'].replace('Paypal', 'PayPal')\n",
    "\n",
    "print('Payment Method: ', data['Payment Method'].unique())"
   ]
  },
  {
   "cell_type": "code",
   "execution_count": 304,
   "metadata": {},
   "outputs": [
    {
     "name": "stdout",
     "output_type": "stream",
     "text": [
      "<class 'pandas.core.frame.DataFrame'>\n",
      "Index: 19999 entries, 0 to 19998\n",
      "Data columns (total 15 columns):\n",
      " #   Column             Non-Null Count  Dtype  \n",
      "---  ------             --------------  -----  \n",
      " 0   Customer ID        19999 non-null  int64  \n",
      " 1   Age                19999 non-null  int64  \n",
      " 2   Gender             19999 non-null  object \n",
      " 3   Loyalty Member     19999 non-null  object \n",
      " 4   Product Type       19999 non-null  object \n",
      " 5   SKU                19999 non-null  object \n",
      " 6   Rating             19999 non-null  int64  \n",
      " 7   Order Status       19999 non-null  object \n",
      " 8   Payment Method     19999 non-null  object \n",
      " 9   Total Price        19999 non-null  float64\n",
      " 10  Unit Price         19999 non-null  float64\n",
      " 11  Quantity           19999 non-null  int64  \n",
      " 12  Shipping Type      19999 non-null  object \n",
      " 13  Add-on Total       19999 non-null  float64\n",
      " 14  Total Transaction  19999 non-null  float64\n",
      "dtypes: float64(4), int64(4), object(7)\n",
      "memory usage: 2.4+ MB\n"
     ]
    }
   ],
   "source": [
    "data.info()"
   ]
  },
  {
   "cell_type": "markdown",
   "metadata": {},
   "source": [
    "Berikut adalah tabel setelah cleaning"
   ]
  },
  {
   "cell_type": "code",
   "execution_count": 305,
   "metadata": {},
   "outputs": [
    {
     "data": {
      "text/html": [
       "<div>\n",
       "<style scoped>\n",
       "    .dataframe tbody tr th:only-of-type {\n",
       "        vertical-align: middle;\n",
       "    }\n",
       "\n",
       "    .dataframe tbody tr th {\n",
       "        vertical-align: top;\n",
       "    }\n",
       "\n",
       "    .dataframe thead th {\n",
       "        text-align: right;\n",
       "    }\n",
       "</style>\n",
       "<table border=\"1\" class=\"dataframe\">\n",
       "  <thead>\n",
       "    <tr style=\"text-align: right;\">\n",
       "      <th></th>\n",
       "      <th>Customer ID</th>\n",
       "      <th>Age</th>\n",
       "      <th>Gender</th>\n",
       "      <th>Loyalty Member</th>\n",
       "      <th>Product Type</th>\n",
       "      <th>SKU</th>\n",
       "      <th>Rating</th>\n",
       "      <th>Order Status</th>\n",
       "      <th>Payment Method</th>\n",
       "      <th>Total Price</th>\n",
       "      <th>Unit Price</th>\n",
       "      <th>Quantity</th>\n",
       "      <th>Shipping Type</th>\n",
       "      <th>Add-on Total</th>\n",
       "      <th>Total Transaction</th>\n",
       "    </tr>\n",
       "  </thead>\n",
       "  <tbody>\n",
       "    <tr>\n",
       "      <th>0</th>\n",
       "      <td>1000</td>\n",
       "      <td>53</td>\n",
       "      <td>Male</td>\n",
       "      <td>No</td>\n",
       "      <td>Smartphone</td>\n",
       "      <td>SKU1004</td>\n",
       "      <td>2</td>\n",
       "      <td>Cancelled</td>\n",
       "      <td>Credit Card</td>\n",
       "      <td>5538.33</td>\n",
       "      <td>791.19</td>\n",
       "      <td>7</td>\n",
       "      <td>Standard</td>\n",
       "      <td>40.21</td>\n",
       "      <td>5578.54</td>\n",
       "    </tr>\n",
       "    <tr>\n",
       "      <th>1</th>\n",
       "      <td>1000</td>\n",
       "      <td>53</td>\n",
       "      <td>Male</td>\n",
       "      <td>No</td>\n",
       "      <td>Tablet</td>\n",
       "      <td>SKU1002</td>\n",
       "      <td>3</td>\n",
       "      <td>Completed</td>\n",
       "      <td>PayPal</td>\n",
       "      <td>741.09</td>\n",
       "      <td>247.03</td>\n",
       "      <td>3</td>\n",
       "      <td>Overnight</td>\n",
       "      <td>26.09</td>\n",
       "      <td>767.18</td>\n",
       "    </tr>\n",
       "    <tr>\n",
       "      <th>2</th>\n",
       "      <td>1002</td>\n",
       "      <td>41</td>\n",
       "      <td>Male</td>\n",
       "      <td>No</td>\n",
       "      <td>Laptop</td>\n",
       "      <td>SKU1005</td>\n",
       "      <td>3</td>\n",
       "      <td>Completed</td>\n",
       "      <td>Credit Card</td>\n",
       "      <td>1855.84</td>\n",
       "      <td>463.96</td>\n",
       "      <td>4</td>\n",
       "      <td>Express</td>\n",
       "      <td>0.00</td>\n",
       "      <td>1855.84</td>\n",
       "    </tr>\n",
       "    <tr>\n",
       "      <th>3</th>\n",
       "      <td>1002</td>\n",
       "      <td>41</td>\n",
       "      <td>Male</td>\n",
       "      <td>Yes</td>\n",
       "      <td>Smartphone</td>\n",
       "      <td>SKU1004</td>\n",
       "      <td>2</td>\n",
       "      <td>Completed</td>\n",
       "      <td>Cash</td>\n",
       "      <td>3164.76</td>\n",
       "      <td>791.19</td>\n",
       "      <td>4</td>\n",
       "      <td>Overnight</td>\n",
       "      <td>60.16</td>\n",
       "      <td>3224.92</td>\n",
       "    </tr>\n",
       "    <tr>\n",
       "      <th>4</th>\n",
       "      <td>1003</td>\n",
       "      <td>75</td>\n",
       "      <td>Male</td>\n",
       "      <td>Yes</td>\n",
       "      <td>Smartphone</td>\n",
       "      <td>SKU1001</td>\n",
       "      <td>5</td>\n",
       "      <td>Completed</td>\n",
       "      <td>Cash</td>\n",
       "      <td>41.50</td>\n",
       "      <td>20.75</td>\n",
       "      <td>2</td>\n",
       "      <td>Express</td>\n",
       "      <td>35.56</td>\n",
       "      <td>77.06</td>\n",
       "    </tr>\n",
       "    <tr>\n",
       "      <th>...</th>\n",
       "      <td>...</td>\n",
       "      <td>...</td>\n",
       "      <td>...</td>\n",
       "      <td>...</td>\n",
       "      <td>...</td>\n",
       "      <td>...</td>\n",
       "      <td>...</td>\n",
       "      <td>...</td>\n",
       "      <td>...</td>\n",
       "      <td>...</td>\n",
       "      <td>...</td>\n",
       "      <td>...</td>\n",
       "      <td>...</td>\n",
       "      <td>...</td>\n",
       "      <td>...</td>\n",
       "    </tr>\n",
       "    <tr>\n",
       "      <th>19994</th>\n",
       "      <td>19996</td>\n",
       "      <td>27</td>\n",
       "      <td>Female</td>\n",
       "      <td>No</td>\n",
       "      <td>Smartphone</td>\n",
       "      <td>SMP234</td>\n",
       "      <td>5</td>\n",
       "      <td>Completed</td>\n",
       "      <td>Credit Card</td>\n",
       "      <td>3419.04</td>\n",
       "      <td>1139.68</td>\n",
       "      <td>3</td>\n",
       "      <td>Same Day</td>\n",
       "      <td>0.00</td>\n",
       "      <td>3419.04</td>\n",
       "    </tr>\n",
       "    <tr>\n",
       "      <th>19995</th>\n",
       "      <td>19996</td>\n",
       "      <td>27</td>\n",
       "      <td>Female</td>\n",
       "      <td>No</td>\n",
       "      <td>Smartphone</td>\n",
       "      <td>SMP234</td>\n",
       "      <td>4</td>\n",
       "      <td>Completed</td>\n",
       "      <td>Bank Transfer</td>\n",
       "      <td>6838.08</td>\n",
       "      <td>1139.68</td>\n",
       "      <td>6</td>\n",
       "      <td>Expedited</td>\n",
       "      <td>0.00</td>\n",
       "      <td>6838.08</td>\n",
       "    </tr>\n",
       "    <tr>\n",
       "      <th>19996</th>\n",
       "      <td>19996</td>\n",
       "      <td>27</td>\n",
       "      <td>Female</td>\n",
       "      <td>Yes</td>\n",
       "      <td>Laptop</td>\n",
       "      <td>LTP123</td>\n",
       "      <td>4</td>\n",
       "      <td>Cancelled</td>\n",
       "      <td>Credit Card</td>\n",
       "      <td>2697.28</td>\n",
       "      <td>674.32</td>\n",
       "      <td>4</td>\n",
       "      <td>Standard</td>\n",
       "      <td>0.00</td>\n",
       "      <td>2697.28</td>\n",
       "    </tr>\n",
       "    <tr>\n",
       "      <th>19997</th>\n",
       "      <td>19996</td>\n",
       "      <td>27</td>\n",
       "      <td>Female</td>\n",
       "      <td>No</td>\n",
       "      <td>Headphones</td>\n",
       "      <td>HDP456</td>\n",
       "      <td>4</td>\n",
       "      <td>Completed</td>\n",
       "      <td>Bank Transfer</td>\n",
       "      <td>1805.90</td>\n",
       "      <td>361.18</td>\n",
       "      <td>5</td>\n",
       "      <td>Standard</td>\n",
       "      <td>198.98</td>\n",
       "      <td>2004.88</td>\n",
       "    </tr>\n",
       "    <tr>\n",
       "      <th>19998</th>\n",
       "      <td>19997</td>\n",
       "      <td>27</td>\n",
       "      <td>Male</td>\n",
       "      <td>No</td>\n",
       "      <td>Headphones</td>\n",
       "      <td>HDP456</td>\n",
       "      <td>1</td>\n",
       "      <td>Cancelled</td>\n",
       "      <td>Bank Transfer</td>\n",
       "      <td>2528.26</td>\n",
       "      <td>361.18</td>\n",
       "      <td>7</td>\n",
       "      <td>Expedited</td>\n",
       "      <td>101.34</td>\n",
       "      <td>2629.60</td>\n",
       "    </tr>\n",
       "  </tbody>\n",
       "</table>\n",
       "<p>19999 rows × 15 columns</p>\n",
       "</div>"
      ],
      "text/plain": [
       "       Customer ID  Age  Gender Loyalty Member Product Type      SKU  Rating  \\\n",
       "0             1000   53    Male             No   Smartphone  SKU1004       2   \n",
       "1             1000   53    Male             No       Tablet  SKU1002       3   \n",
       "2             1002   41    Male             No       Laptop  SKU1005       3   \n",
       "3             1002   41    Male            Yes   Smartphone  SKU1004       2   \n",
       "4             1003   75    Male            Yes   Smartphone  SKU1001       5   \n",
       "...            ...  ...     ...            ...          ...      ...     ...   \n",
       "19994        19996   27  Female             No   Smartphone   SMP234       5   \n",
       "19995        19996   27  Female             No   Smartphone   SMP234       4   \n",
       "19996        19996   27  Female            Yes       Laptop   LTP123       4   \n",
       "19997        19996   27  Female             No   Headphones   HDP456       4   \n",
       "19998        19997   27    Male             No   Headphones   HDP456       1   \n",
       "\n",
       "      Order Status Payment Method  Total Price  Unit Price  Quantity  \\\n",
       "0        Cancelled    Credit Card      5538.33      791.19         7   \n",
       "1        Completed         PayPal       741.09      247.03         3   \n",
       "2        Completed    Credit Card      1855.84      463.96         4   \n",
       "3        Completed           Cash      3164.76      791.19         4   \n",
       "4        Completed           Cash        41.50       20.75         2   \n",
       "...            ...            ...          ...         ...       ...   \n",
       "19994    Completed    Credit Card      3419.04     1139.68         3   \n",
       "19995    Completed  Bank Transfer      6838.08     1139.68         6   \n",
       "19996    Cancelled    Credit Card      2697.28      674.32         4   \n",
       "19997    Completed  Bank Transfer      1805.90      361.18         5   \n",
       "19998    Cancelled  Bank Transfer      2528.26      361.18         7   \n",
       "\n",
       "      Shipping Type  Add-on Total  Total Transaction  \n",
       "0          Standard         40.21            5578.54  \n",
       "1         Overnight         26.09             767.18  \n",
       "2           Express          0.00            1855.84  \n",
       "3         Overnight         60.16            3224.92  \n",
       "4           Express         35.56              77.06  \n",
       "...             ...           ...                ...  \n",
       "19994      Same Day          0.00            3419.04  \n",
       "19995     Expedited          0.00            6838.08  \n",
       "19996      Standard          0.00            2697.28  \n",
       "19997      Standard        198.98            2004.88  \n",
       "19998     Expedited        101.34            2629.60  \n",
       "\n",
       "[19999 rows x 15 columns]"
      ]
     },
     "execution_count": 305,
     "metadata": {},
     "output_type": "execute_result"
    }
   ],
   "source": [
    "data"
   ]
  },
  {
   "cell_type": "code",
   "execution_count": 308,
   "metadata": {},
   "outputs": [
    {
     "name": "stdout",
     "output_type": "stream",
     "text": [
      "<class 'pandas.core.frame.DataFrame'>\n",
      "Index: 19999 entries, 0 to 19998\n",
      "Data columns (total 15 columns):\n",
      " #   Column             Non-Null Count  Dtype  \n",
      "---  ------             --------------  -----  \n",
      " 0   Customer ID        19999 non-null  int64  \n",
      " 1   Age                19999 non-null  int64  \n",
      " 2   Gender             19999 non-null  object \n",
      " 3   Loyalty Member     19999 non-null  object \n",
      " 4   Product Type       19999 non-null  object \n",
      " 5   SKU                19999 non-null  object \n",
      " 6   Rating             19999 non-null  int64  \n",
      " 7   Order Status       19999 non-null  object \n",
      " 8   Payment Method     19999 non-null  object \n",
      " 9   Total Price        19999 non-null  float64\n",
      " 10  Unit Price         19999 non-null  float64\n",
      " 11  Quantity           19999 non-null  int64  \n",
      " 12  Shipping Type      19999 non-null  object \n",
      " 13  Add-on Total       19999 non-null  float64\n",
      " 14  Total Transaction  19999 non-null  float64\n",
      "dtypes: float64(4), int64(4), object(7)\n",
      "memory usage: 2.4+ MB\n"
     ]
    }
   ],
   "source": [
    "data.info()"
   ]
  },
  {
   "cell_type": "code",
   "execution_count": 307,
   "metadata": {},
   "outputs": [],
   "source": [
    "# Ekspor data yang sudah bersih ke csv\n",
    "data.to_csv('electronic_sales_cleaned.csv', index=False)"
   ]
  },
  {
   "cell_type": "markdown",
   "metadata": {},
   "source": [
    "***\n",
    "\n",
    "# v. Data Exploration"
   ]
  },
  {
   "cell_type": "markdown",
   "metadata": {},
   "source": [
    "Karena data banyak maka menggunakan Z-Test"
   ]
  },
  {
   "cell_type": "markdown",
   "metadata": {},
   "source": [
    "## 1. Seperti apa persebaran dan distribusi usia pelanggan?"
   ]
  },
  {
   "cell_type": "code",
   "execution_count": 134,
   "metadata": {},
   "outputs": [],
   "source": [
    "# Menyimpan data untuk order yang completed\n",
    "completed_order = data[data['Order Status'] == 'Completed']"
   ]
  },
  {
   "cell_type": "code",
   "execution_count": 310,
   "metadata": {},
   "outputs": [
    {
     "name": "stdout",
     "output_type": "stream",
     "text": [
      "Age Average: 48.995199759988\n",
      "Age Median: 49.0\n",
      "Age Modus: 0    40\n",
      "Name: Age, dtype: int64\n",
      "Age Standar Deviasi: 18.0385258765906\n",
      "Age Skewness: 0.002417689910756836\n",
      "Age Kurtosis: -1.1916461254556927\n"
     ]
    }
   ],
   "source": [
    "\n",
    "age_mean = data['Age'].mean()\n",
    "age_median = data['Age'].median()\n",
    "age_modus= data['Age'].mode()\n",
    "age_std = data['Age'].std()\n",
    "age_skew = data['Age'].skew()\n",
    "age_kurt = data['Age'].kurtosis()\n",
    "\n",
    "print('Age Average:', age_mean)\n",
    "print('Age Median:', age_median)\n",
    "print('Age Modus:', age_modus)\n",
    "print('Age Standar Deviasi:', age_std)\n",
    "print('Age Skewness:', age_skew)\n",
    "print('Age Kurtosis:', age_kurt)"
   ]
  },
  {
   "cell_type": "markdown",
   "metadata": {},
   "source": [
    "- Rata-rata dan median hampir sama, sekitar 49 tahun, ini menunjukkan bahwa distribusi usia relatif simetris.\n",
    "- Standar deviasi bernilai `18.06` relatif besar, ada variasi yang signifikan dalam usia pelanggan, ada pelanggan yang jauh lebih muda dan lebih tua dari rata-rata.\n",
    "- Nilai skewness `0.0057` yang sangat dekat dengan 0 menunjukkan bahwa distribusi usia adalah normal. Tidak ada kecenderungan signifikan ke arah usia yang lebih tua atau lebih muda\n",
    "- Nilai kurtosis `-1.197` menunjukkan bahwa data usia tidak memiliki puncak yang tajam, dan ada lebih banyak data pada ekor distribusi. "
   ]
  },
  {
   "cell_type": "code",
   "execution_count": 242,
   "metadata": {},
   "outputs": [
    {
     "data": {
      "text/plain": [
       "<Axes: >"
      ]
     },
     "execution_count": 242,
     "metadata": {},
     "output_type": "execute_result"
    },
    {
     "data": {
      "image/png": "[encoded data removed]",
      "text/plain": [
       "<Figure size 1000x400 with 2 Axes>"
      ]
     },
     "metadata": {},
     "output_type": "display_data"
    }
   ],
   "source": [
    "fig, ax = plt.subplots(ncols=2,figsize=(10,4))\n",
    "\n",
    "# menampilkan histogram dan plot box data\n",
    "data['Age'].plot(kind='hist',bins=20,ax=ax[0])\n",
    "data['Age'].plot(kind='box',ax=ax[1])"
   ]
  },
  {
   "cell_type": "markdown",
   "metadata": {},
   "source": [
    "## 2. Bagaimana persebaran transaksi berdasarkan jenis kelamin (presentase antara wanita dan pria)?"
   ]
  },
  {
   "cell_type": "code",
   "execution_count": 153,
   "metadata": {},
   "outputs": [
    {
     "name": "stdout",
     "output_type": "stream",
     "text": [
      "Gender\n",
      "Male      10164\n",
      "Female     9835\n",
      "Name: count, dtype: int64\n",
      "Persentase pria: 50.82%\n",
      "Persentase wanita: 49.18%\n"
     ]
    },
    {
     "data": {
      "image/png": "[encoded data removed]",
      "text/plain": [
       "<Figure size 500x500 with 1 Axes>"
      ]
     },
     "metadata": {},
     "output_type": "display_data"
    }
   ],
   "source": [
    "# Mengelompokkan transaksi yang dilakukan berdasarkan jenis kelamin\n",
    "male = len(data[data['Gender'] == 'Male'])\n",
    "female = len(data[data['Order Status'] == 'Female'])\n",
    "print(data['Order Status'].value_counts())\n",
    "\n",
    "# Menghitung total transaksi\n",
    "total = len(data)\n",
    "\n",
    "# Menghitung persentase\n",
    "presentase_completed = (male / total) * 100\n",
    "presentase_cancelled = (female / total) * 100\n",
    "print(f\"Persentase transaksi yang selesai: {presentase_completed:.2f}%\")\n",
    "print(f\"Persentase transaksi yang dibatalkan: {presentase_cancelled:.2f}%\")\n",
    "\n",
    "# Data untuk pie chart\n",
    "labels = ['Completed', 'Cancelled']\n",
    "sizes = [presentase_completed, presentase_cancelled]\n",
    "colors = ['#66b3ff', '#ff9999']\n",
    "\n",
    "# Membuat pie chart\n",
    "plt.figure(figsize=(5,5))\n",
    "plt.pie(sizes, labels=labels, colors=colors, autopct='%1.1f%%', startangle=90)\n",
    "plt.axis('equal')  # Menjaga pie chart berbentuk lingkaran\n",
    "plt.title('Persentase Transaksi: Completed vs Cancelled')\n",
    "plt.show()"
   ]
  },
  {
   "cell_type": "markdown",
   "metadata": {},
   "source": [
    "Persebaran antara pria dan wanita merata, 50.8% transaksi dilakukan oleh pria dan 49.2% dilakukan oleh wanita."
   ]
  },
  {
   "cell_type": "markdown",
   "metadata": {},
   "source": [
    "## 3. Berapa persentase transaksi yang selesai dibandingkan dengan yang dibatalkan?"
   ]
  },
  {
   "cell_type": "code",
   "execution_count": 243,
   "metadata": {},
   "outputs": [
    {
     "name": "stdout",
     "output_type": "stream",
     "text": [
      "Order Status\n",
      "Completed    13431\n",
      "Cancelled     6568\n",
      "Name: count, dtype: int64\n",
      "Persentase transaksi yang selesai: 67.16%\n",
      "Persentase transaksi yang dibatalkan: 32.84%\n"
     ]
    },
    {
     "data": {
      "image/png": "[encoded data removed]",
      "text/plain": [
       "<Figure size 500x500 with 1 Axes>"
      ]
     },
     "metadata": {},
     "output_type": "display_data"
    }
   ],
   "source": [
    "# Menghitung jumlah transaksi yang selesai dan dibatalkan\n",
    "completed = len(data[data['Order Status'] == 'Completed'])\n",
    "cancelled = len(data[data['Order Status'] == 'Cancelled'])\n",
    "print(data['Order Status'].value_counts())\n",
    "\n",
    "# Menghitung total transaksi\n",
    "total = len(data)\n",
    "\n",
    "# Menghitung persentase\n",
    "presentase_completed = (completed / total) * 100\n",
    "presentase_cancelled = (cancelled / total) * 100\n",
    "print(f\"Persentase transaksi yang selesai: {presentase_completed:.2f}%\")\n",
    "print(f\"Persentase transaksi yang dibatalkan: {presentase_cancelled:.2f}%\")\n",
    "\n",
    "# Data untuk pie chart\n",
    "labels = ['Completed', 'Cancelled']\n",
    "sizes = [presentase_completed, presentase_cancelled]\n",
    "colors = ['green', 'red']\n",
    "\n",
    "# Membuat pie chart\n",
    "plt.figure(figsize=(5,5))\n",
    "plt.pie(sizes, labels=labels, colors=colors, autopct='%1.1f%%', startangle=90)\n",
    "plt.axis('equal')  # Menjaga pie chart berbentuk lingkaran\n",
    "plt.title('Persentase Transaksi: Completed vs Cancelled')\n",
    "plt.show()"
   ]
  },
  {
   "cell_type": "markdown",
   "metadata": {},
   "source": [
    "Didapat bahwa `67.16%` dari total transaksi yang dilakukan berhasil diselesaikan, sedangkan `32.84%` transaksi dibatalkan. `2/3` dari seluruh transaksi diselesaikan"
   ]
  },
  {
   "cell_type": "markdown",
   "metadata": {},
   "source": [
    "## 4. Bagaimana presentase pelanggan yang merupakan anggota program loyalitas dan bukan merupakan anggota?"
   ]
  },
  {
   "cell_type": "code",
   "execution_count": 244,
   "metadata": {},
   "outputs": [
    {
     "name": "stdout",
     "output_type": "stream",
     "text": [
      "Loyalty Member\n",
      "No     15657\n",
      "Yes     4342\n",
      "Name: count, dtype: int64\n",
      "Persentase Status Loyalty: 21.71%\n",
      "Persentase No Loyalty: 78.29%\n"
     ]
    },
    {
     "data": {
      "image/png": "[encoded data removed]",
      "text/plain": [
       "<Figure size 500x500 with 1 Axes>"
      ]
     },
     "metadata": {},
     "output_type": "display_data"
    }
   ],
   "source": [
    "# Menghitung jumlah transaksi yang selesai dan dibatalkan\n",
    "loyalty = len(data[data['Loyalty Member'] == 'Yes'])\n",
    "no_loyalty = len(data[data['Loyalty Member'] == 'No'])\n",
    "print(data['Loyalty Member'].value_counts())\n",
    "\n",
    "# Menghitung persentase\n",
    "presentase_loyalty = (loyalty / total) * 100\n",
    "presentase_no_loyalty = (no_loyalty / total) * 100\n",
    "print(f\"Persentase Status Loyalty: {presentase_loyalty:.2f}%\")\n",
    "print(f\"Persentase No Loyalty: {presentase_no_loyalty:.2f}%\")\n",
    "\n",
    "# Data untuk pie chart\n",
    "labels = ['Loyalty', 'No Loyalty']\n",
    "sizes = [presentase_loyalty, presentase_no_loyalty]\n",
    "colors = ['blue', 'red']\n",
    "\n",
    "# Membuat pie chart\n",
    "plt.figure(figsize=(5,5))\n",
    "plt.pie(sizes, labels=labels, colors=colors, autopct='%1.1f%%', startangle=90)\n",
    "plt.axis('equal')  # Menjaga pie chart berbentuk lingkaran\n",
    "plt.title('Persentase Member: Loyalty vs No Loyalty')\n",
    "plt.show()"
   ]
  },
  {
   "cell_type": "markdown",
   "metadata": {},
   "source": [
    "`78.3%` dari seluruh transaksi dilakukan oleh Non-Loyalty dan hanya `21.7%` dilakukan oleh Loyalty. Mayoritas transaksi dilakukan tanpa member Loyalty"
   ]
  },
  {
   "cell_type": "markdown",
   "metadata": {},
   "source": [
    "## 5. Bagaimana presentase jumlah transaksi setiap jenis produk?"
   ]
  },
  {
   "cell_type": "code",
   "execution_count": 245,
   "metadata": {},
   "outputs": [
    {
     "name": "stdout",
     "output_type": "stream",
     "text": [
      "              Jumlah Transaksi  Persentase\n",
      "Product Type                              \n",
      "Smartphone                5978   29.891495\n",
      "Tablet                    4104   20.521026\n",
      "Laptop                    3972   19.860993\n",
      "Smartwatch                3934   19.670984\n",
      "Headphones                2011   10.055503\n"
     ]
    }
   ],
   "source": [
    "transaction = data['Product Type'].value_counts()\n",
    "\n",
    "total = len(data)\n",
    "# Menghitung persentase setiap jenis produk\n",
    "presentase_transactions = (transaction / total) * 100\n",
    "\n",
    "# Mengubah hasil menjadi DataFrame\n",
    "df_presentase = pd.DataFrame({\n",
    "    'Jumlah Transaksi': transaction,\n",
    "    'Persentase': presentase_transactions\n",
    "})\n",
    "\n",
    "print(df_presentase)"
   ]
  },
  {
   "cell_type": "code",
   "execution_count": 248,
   "metadata": {},
   "outputs": [
    {
     "name": "stderr",
     "output_type": "stream",
     "text": [
      "C:\\Users\\Kezia\\AppData\\Local\\Temp\\ipykernel_36216\\2719888724.py:3: FutureWarning: \n",
      "\n",
      "Passing `palette` without assigning `hue` is deprecated and will be removed in v0.14.0. Assign the `x` variable to `hue` and set `legend=False` for the same effect.\n",
      "\n",
      "  sns.barplot(x=df_presentase.index, y='Jumlah Transaksi', data=df_presentase, palette=warna)\n"
     ]
    },
    {
     "data": {
      "image/png": "[encoded data removed]",
      "text/plain": [
       "<Figure size 1000x600 with 1 Axes>"
      ]
     },
     "metadata": {},
     "output_type": "display_data"
    }
   ],
   "source": [
    "plt.figure(figsize=(10, 6))\n",
    "warna = ['skyblue', 'lightgreen', 'salmon', 'gold', 'gray']\n",
    "sns.barplot(x=df_presentase.index, y='Jumlah Transaksi', data=df_presentase, palette=warna)\n",
    "\n",
    "# Menambahkan label dan judul\n",
    "plt.title('Jumlah Transaksi per Jenis Produk')\n",
    "plt.xlabel('Jenis Produk')\n",
    "plt.ylabel('Jumlah Transaksi')\n",
    "\n",
    "# Menampilkan grafik\n",
    "plt.xticks(rotation=45)\n",
    "plt.tight_layout()\n",
    "plt.show()"
   ]
  },
  {
   "cell_type": "markdown",
   "metadata": {},
   "source": [
    "Jumlah transaksi setiap jenis data cukup mendekati satu sama lain. Penjualan paling banyak pada tipe Smartphone dengan presentase `29.9%` dan penjualan paling sedikit pada jenis produk Headphones dengan presentase `10.1%`"
   ]
  },
  {
   "cell_type": "markdown",
   "metadata": {},
   "source": [
    "## 6. Apakah ada korelasi antara rating produk yang diberikan pelanggan dengan jumlah produk yang terjual?"
   ]
  },
  {
   "cell_type": "markdown",
   "metadata": {},
   "source": [
    "H0: Tidak ada hubungan antara rating produk yang diberikan pelanggan dengan jumlah produk yang terjual\n",
    "\n",
    "H1: Ada hubungan antara rating produk yang diberikan pelanggan dengan jumlah produk yang terjual\n",
    "\n",
    "Karena kedua data bersifat numerik, maka korelasi dianalisa dengan Pearson\n",
    "\n"
   ]
  },
  {
   "cell_type": "code",
   "execution_count": 257,
   "metadata": {},
   "outputs": [
    {
     "name": "stdout",
     "output_type": "stream",
     "text": [
      "Koefisien Kendall: -0.006802166252049123\n",
      "P value antara Rating dan Quantity: 0.21652218333505713\n"
     ]
    }
   ],
   "source": [
    "tau, p_value = stats.kendalltau(data['Rating'], data['Quantity'])\n",
    "print(f'Koefisien Kendall: {tau}')\n",
    "print(f\"P value antara Rating dan Quantity: {p_value}\")"
   ]
  },
  {
   "cell_type": "markdown",
   "metadata": {},
   "source": [
    "P-value bernilai 0.21, berarti gagal tolak H0. Tidak ada hubungan yang signifikan antara rating produk dan jumlah produk yang terjual\n"
   ]
  },
  {
   "cell_type": "code",
   "execution_count": 313,
   "metadata": {},
   "outputs": [
    {
     "data": {
      "image/png": "[encoded data removed]",
      "text/plain": [
       "<Figure size 800x600 with 1 Axes>"
      ]
     },
     "metadata": {},
     "output_type": "display_data"
    }
   ],
   "source": [
    "plt.figure(figsize=(8, 6))\n",
    "sns.scatterplot(x='Rating', y='Quantity', data=data, hue='Product Type', style='Product Type')\n",
    "\n",
    "# Menambahkan judul dan label\n",
    "plt.title('Scatter Plot Rating vs Quantity')\n",
    "plt.xlabel('Rating Produk')\n",
    "plt.ylabel('Jumlah Produk Terjual')\n",
    "plt.show()"
   ]
  },
  {
   "cell_type": "markdown",
   "metadata": {},
   "source": [
    "Dari yang sudah dijabarkan sebelumnya urutan produk dari yang terbanyak hingga paling sedikit adalah Smartphone, Tablet, Laptop, Smartwatch dan Headphones"
   ]
  },
  {
   "cell_type": "markdown",
   "metadata": {},
   "source": [
    "## 7. Apakah anggota status loyalitas lebih cenderung membeli lebih banyak dari non-anggota?"
   ]
  },
  {
   "cell_type": "markdown",
   "metadata": {},
   "source": [
    "H0: Status loyalitas tidak mempengaruhi jumlah total transaksi\n",
    "\n",
    "H1: Status loyalitas mempengaruhi jumlah total transaksi\n",
    "\n",
    "Analisis menggunakan T-Test Independent"
   ]
  },
  {
   "cell_type": "code",
   "execution_count": 264,
   "metadata": {},
   "outputs": [
    {
     "name": "stdout",
     "output_type": "stream",
     "text": [
      "Statistik t: -1.2314284244520741\n",
      "p-value: 0.21817715292470408\n"
     ]
    }
   ],
   "source": [
    "loyal_members = data[data['Loyalty Member'] == 'Yes']['Total Transaction']\n",
    "non_loyal_members = data[data['Loyalty Member'] == 'No']['Total Transaction']\n",
    "\n",
    "# Melakukan uji t\n",
    "t_statistic, p_value = stats.ttest_ind(loyal_members, non_loyal_members)\n",
    "\n",
    "# Hasil uji\n",
    "print(\"Statistik t:\", t_statistic)\n",
    "print(\"p-value:\", p_value)"
   ]
  },
  {
   "cell_type": "markdown",
   "metadata": {},
   "source": [
    "P-value `0.22` karena lebih dari 0.05 maka gagal tolak H0. Status loyalitas tidak mempengaruhi jumlah total transaksi"
   ]
  },
  {
   "cell_type": "code",
   "execution_count": 266,
   "metadata": {},
   "outputs": [
    {
     "data": {
      "image/png": "[encoded data removed]",
      "text/plain": [
       "<Figure size 800x600 with 1 Axes>"
      ]
     },
     "metadata": {},
     "output_type": "display_data"
    }
   ],
   "source": [
    "# Membuat box plot\n",
    "plt.figure(figsize=(8, 6))\n",
    "sns.boxplot(x='Loyalty Member', y='Total Transaction', data=data)\n",
    "plt.title('Perbandingan Total Transaksi antara Anggota Loyal dan Non-Anggota Loyal')\n",
    "plt.xlabel('Loyalty Member')\n",
    "plt.ylabel('Total Transaction')\n",
    "plt.show()"
   ]
  },
  {
   "cell_type": "markdown",
   "metadata": {},
   "source": [
    "## 8. Apakah pelanggan yang membeli add-ons lebih cenderung memberikan rating produk yang lebih tinggi dibandingkan yang tidak membeli add-ons?"
   ]
  },
  {
   "cell_type": "markdown",
   "metadata": {},
   "source": [
    "H0: Tidak ada hubungan antara pembelian Add-ons dengan rating\n",
    "\n",
    "H1: Ada hubungan antara pembelian Add-ons dengan rating\n",
    "\n",
    "Karena pelanggan dengan add-ons dan tidak add-ons tidak seimbang, maka tidak bisa pakai Kendall. Analisis menggunakan T-test"
   ]
  },
  {
   "cell_type": "code",
   "execution_count": 276,
   "metadata": {},
   "outputs": [
    {
     "name": "stdout",
     "output_type": "stream",
     "text": [
      "Statistik t: -1.0633187025914033\n",
      "p-value: 0.28765028656179786\n"
     ]
    }
   ],
   "source": [
    "customers_with_addons = data[data['Add-on Total'] > 0]['Rating']\n",
    "customers_without_addons = data[data['Add-on Total'] == 0]['Rating']\n",
    "\n",
    "# Melakukan uji t\n",
    "t_statistic, p_value = stats.ttest_ind(customers_with_addons, customers_without_addons)\n",
    "\n",
    "# Hasil uji\n",
    "print(\"Statistik t:\", t_statistic)\n",
    "print(\"p-value:\", p_value)"
   ]
  },
  {
   "cell_type": "markdown",
   "metadata": {},
   "source": [
    "P-value bernilai `0.28` berarti gagal tolak H0. Menunjukkan bahwa tidak ada hubungan antara pembelian Add-ons dengan rating"
   ]
  },
  {
   "cell_type": "code",
   "execution_count": 279,
   "metadata": {},
   "outputs": [
    {
     "data": {
      "image/png": "[encoded data removed]",
      "text/plain": [
       "<Figure size 600x600 with 1 Axes>"
      ]
     },
     "metadata": {},
     "output_type": "display_data"
    }
   ],
   "source": [
    "# Menghitung rata-rata rating dari kedua kelompok\n",
    "avg_with_addons = np.mean(customers_with_addons)\n",
    "avg_without_addons = np.mean(customers_without_addons)\n",
    "\n",
    "# Membuat data untuk plot\n",
    "labels = ['Dengan Add-on', 'Tanpa Add-on']\n",
    "averages = [avg_with_addons, avg_without_addons]\n",
    "\n",
    "# Membuat bar plot\n",
    "plt.figure(figsize=(6, 6))\n",
    "sns.barplot(x=labels, y=averages)\n",
    "\n",
    "# Menambahkan label pada sumbu dan judul\n",
    "plt.title('Perbandingan Rata-rata Rating: Dengan dan Tanpa Add-on')\n",
    "plt.xlabel('Kelompok')\n",
    "plt.ylabel('Rata-rata Rating')\n",
    "\n",
    "plt.show()"
   ]
  },
  {
   "cell_type": "markdown",
   "metadata": {},
   "source": [
    "# vi. Kesimpulan"
   ]
  },
  {
   "cell_type": "markdown",
   "metadata": {},
   "source": [
    "Berdasarkan analisis data penjualan yang telah dilakukan, dapat diambil beberapa kesimpulan:\n",
    "- Produk memiliki demografi pada usia sekitar 49 tahun, dan populer untuk pria dan juga wanita. Tekankan promosi pada kedua kalangan ini.\n",
    "- Mayoritas transaksi berhasil diselesaikan, dan kebanyakan transaksi dilakukan tanpa Membership Loyalty. Perlu menambahkan benefit lebih untuk menjadi member Loyalty supaya jumlah member meningkat.\n",
    "- Produk yang paling populer adalah Handphone, perlu menambahkan produk handphone dan juga menekankan marketing untuk jenis produk lain\n",
    "- Tidak ada kolerasi relevan antara jenis produk, rating, status loyalty dan pembelian add-ons."
   ]
  }
 ],
 "metadata": {
  "kernelspec": {
   "display_name": "base",
   "language": "python",
   "name": "python3"
  },
  "language_info": {
   "codemirror_mode": {
    "name": "ipython",
    "version": 3
   },
   "file_extension": ".py",
   "mimetype": "text/x-python",
   "name": "python",
   "nbconvert_exporter": "python",
   "pygments_lexer": "ipython3",
   "version": "3.12.4"
  }
 },
 "nbformat": 4,
 "nbformat_minor": 2
}
